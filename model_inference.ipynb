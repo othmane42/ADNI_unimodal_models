{
 "cells": [
  {
   "cell_type": "code",
   "execution_count": 2,
   "metadata": {},
   "outputs": [],
   "source": [
    "import torch\n",
    "import torch.nn as nn\n",
    "from models.classifier import CustomClassifier\n",
    "from models.model import UnimodalModel\n",
    "from encoders.image_encoders import DenseNet3D, ResNet50 , VIT\n",
    "from encoders.tabular_encoders import TabEncoderMLP, ClinicalBERTEncoder\n",
    "from datasets import MMClassificationCollator\n",
    "from transformers import AutoImageProcessor\n",
    "from preprocessing.MRI_processing import GetMiddleSlice\n",
    "from torch.nn.modules.utils import consume_prefix_in_state_dict_if_present\n",
    "\n",
    "from preprocessing.text_processing import get_serialize_data_processing\n",
    "from datasets import get_adni_dataset_new, data_loader, MMClassificationCollator\n",
    "from monai.transforms import (\n",
    "    Compose,\n",
    "    LoadImage,\n",
    "    ScaleIntensity,\n",
    "    EnsureChannelFirst,\n",
    "    Resize,\n",
    "    EnsureType\n",
    ")"
   ]
  },
  {
   "cell_type": "code",
   "execution_count": 2,
   "metadata": {},
   "outputs": [
    {
     "data": {
      "text/plain": [
       "True"
      ]
     },
     "execution_count": 2,
     "metadata": {},
     "output_type": "execute_result"
    }
   ],
   "source": [
    "torch.cuda.is_available()"
   ]
  },
  {
   "cell_type": "markdown",
   "metadata": {},
   "source": [
    "# Data loading"
   ]
  },
  {
   "cell_type": "code",
   "execution_count": 3,
   "metadata": {},
   "outputs": [
    {
     "name": "stdout",
     "output_type": "stream",
     "text": [
      "{'dataset_name': 'ADNI MRI dataset New', 'data_path': '/gpfs/projects/acad/mmfusion/datasets/adni/ADNIDenoise/AD_CN_clinical_duplicates_aligned.csv', 'image_column': 'nii_path', 'image_type': 'nii.gz', 'eeg_column': None, 'text_columns': None, 'target_column': 'Group', 'subject_column': 'Subject', 'train_val_size': 0.1, 'train_test_size': 0.1, 'normalize': True, 'make_dummies': False, 'drop_duplicates': False, 'patient_based_split': True, 'nunique_cat_values': [2, 2, 5, 2, 7, 2, 3, 3, 4, 2, 2, 2, 2, 2, 2, 2, 2, 2, 2, 2, 2, 2], 'cat_cols': ['PTRACCAT', 'PTGENDER', 'PTHAND', 'PTMARRY', 'PTNOTRT', 'PTTLANG', 'MH14ALCH', 'MH17MALI', 'MH16SMOK', 'MH15DRUG', 'MH4CARD', 'MHPSYCH', 'MH2NEURL', 'MH6HEPAT', 'MH12RENA', 'DSPANFOR', 'DSPANBAC', 'CDGLOBAL', 'BCFAQ', 'BCDEPRES'], 'cat_cols_dummies': ['PTRACCAT_2', 'PTRACCAT_4', 'PTRACCAT_5', 'PTRACCAT_6', 'PTGENDER_1.0', 'PTGENDER_2.0', 'PTHAND_1.0', 'PTHAND_2.0', 'PTMARRY_1.0', 'PTMARRY_2.0', 'PTMARRY_3.0', 'PTMARRY_4.0', 'PTMARRY_5.0', 'PTNOTRT_0.0', 'PTNOTRT_1.0', 'PTTLANG_1.0', 'PTTLANG_2.0', 'MH14ALCH_0', 'MH14ALCH_1', 'MH17MALI_0', 'MH17MALI_1', 'MH16SMOK_0', 'MH16SMOK_1', 'MH15DRUG_0', 'MH15DRUG_1', 'MH4CARD_0', 'MH4CARD_1', 'MHPSYCH_0', 'MHPSYCH_1', 'MH2NEURL_0', 'MH2NEURL_1', 'MH6HEPAT_0', 'MH6HEPAT_1', 'MH12RENA_0', 'MH12RENA_1', 'DSPANFOR_0.0', 'DSPANFOR_2.0', 'DSPANFOR_4.0', 'DSPANFOR_5.0', 'DSPANFOR_6.0', 'DSPANFOR_7.0', 'DSPANFOR_8.0', 'DSPANFOR_9.0', 'DSPANFOR_10.0', 'DSPANFOR_11.0', 'DSPANFOR_12.0', 'DSPANBAC_1.0', 'DSPANBAC_2.0', 'DSPANBAC_3.0', 'DSPANBAC_4.0', 'DSPANBAC_5.0', 'DSPANBAC_6.0', 'DSPANBAC_7.0', 'DSPANBAC_8.0', 'DSPANBAC_9.0', 'DSPANBAC_10.0', 'DSPANBAC_11.0', 'DSPANBAC_12.0', 'CDGLOBAL_0.0', 'CDGLOBAL_0.5', 'CDGLOBAL_1.0', 'CDGLOBAL_2.0', 'BCFAQ_0.0', 'BCFAQ_1.0', 'BCDEPRES_0.0'], 'cont_cols': ['VSWEIGHT', 'VSHEIGHT', 'MMSCORE', 'TRAASCOR', 'TRABSCOR', 'TRABERRCOM', 'MMSCORE', 'TRAASCOR', 'TRABSCOR', 'TRABERRCOM', 'CATANIMSC', 'BNTTOTAL', 'PTEDUCAT', 'PTDOBYY']}\n"
     ]
    }
   ],
   "source": [
    "seed = 42\n",
    "yaml_db_path=\"ADNI_dataset.yaml\"\n",
    "import yaml\n",
    "\n",
    "with open(yaml_db_path, 'r') as f:\n",
    "    dataset_config = yaml.safe_load(f)\n",
    "print(dataset_config)\n",
    "\n",
    "\n",
    "class SimpleConfig:\n",
    "        def __init__(self):\n",
    "            self.batch_size = 1 \n",
    "            self.num_workers = 4\n",
    "            self.pin_memory = True\n",
    "            self.persistent_workers = True\n",
    "            self.dataset = dataset_config\n",
    "            \n",
    "        class model:\n",
    "            weight_samples = False\n",
    "    \n",
    "cfg = SimpleConfig()\n",
    "\n",
    "dataset_args = dict(dataset_config)\n",
    "\n",
    "\n",
    "X_train, y_train, X_val, y_val, X_test, y_test, class_names, le = get_adni_dataset_new(**dataset_args,seed=seed)\n",
    "\n",
    "\n",
    "# Set up the transforms pipeline\n",
    "transforms = {\n",
    "    \"transform_fun\": Compose([\n",
    "        LoadImage(image_only=True),\n",
    "        ScaleIntensity(),\n",
    "        EnsureChannelFirst(),\n",
    "        Resize(spatial_size=[128, 128, 128]),\n",
    "        EnsureType()\n",
    "    ]),\n",
    "    \"params\": {},\n",
    "    \"data_type\": \"nii.gz\"\n",
    "}\n",
    "\n",
    "\n",
    "collate_fn = MMClassificationCollator( \n",
    "    image_processing=transforms,\n",
    "    tabular_processing=None)\n",
    "\n",
    "\n",
    "test_dataloader = data_loader(X_test, y_test,collate_fn=collate_fn, config=cfg, shuffle=True)\n"
   ]
  },
  {
   "cell_type": "markdown",
   "metadata": {},
   "source": [
    "# 3D MRI models "
   ]
  },
  {
   "cell_type": "code",
   "execution_count": null,
   "metadata": {},
   "outputs": [],
   "source": [
    "densenet3d_chkpt_patient = \"best_models/best_model_densenet3D_epoch=14-step=3510.ckpt\"\n",
    "\n",
    "image_encoder = DenseNet3D(\n",
    "            freeze=False,\n",
    "            include_head=False\n",
    "          )\n",
    "\n",
    "classifier = CustomClassifier(\n",
    "    hidden_dim=0,\n",
    "    activation_fun=nn.ReLU(),\n",
    "    num_class=2, \n",
    "    task=\"multiclass\",  \n",
    "    dropout_rate=0\n",
    ")\n",
    "\n",
    "encoders = {\"image\": image_encoder}\n",
    "unimodal_model = UnimodalModel(\n",
    "    encoders=encoders,\n",
    "    classifier=classifier\n",
    ")\n",
    "dummy_input = next(iter(test_dataloader))\n",
    "\n",
    "unimodal_model(dummy_input)\n",
    "ckpt = torch.load(densenet3d_chkpt_patient, map_location=\"cpu\")\n",
    "state_dict = ckpt[\"state_dict\"]\n",
    "consume_prefix_in_state_dict_if_present(state_dict, \"model.\")\n",
    "unimodal_model.load_state_dict(state_dict)"
   ]
  },
  {
   "cell_type": "markdown",
   "metadata": {},
   "source": [
    "## Generate embedding"
   ]
  },
  {
   "cell_type": "code",
   "execution_count": null,
   "metadata": {},
   "outputs": [
    {
     "name": "stdout",
     "output_type": "stream",
     "text": [
      "Saved: test_embeddings_per_patient.pkl\n",
      "Subjects: 33 | Dims: (1, 1024)\n"
     ]
    }
   ],
   "source": [
    "import torch, pickle\n",
    "import numpy as np\n",
    "import pandas as pd\n",
    "\n",
    "device = torch.device(\"cuda\" if torch.cuda.is_available() else \"cpu\")\n",
    "unimodal_model.to(device)\n",
    "unimodal_model.eval()\n",
    "\n",
    "\n",
    "label_mapping ={0: \"AD\", 1: \"CN\"}\n",
    "\n",
    "\n",
    "records_by_subject = {}\n",
    "records_by_class = {}\n",
    "\n",
    "offset = 0\n",
    "with torch.no_grad():\n",
    "    for i,batch in enumerate(test_dataloader):\n",
    "        X_test_row = X_test.iloc[i]\n",
    "        # move tensors to device\n",
    "        for k, v in batch.items():\n",
    "            if torch.is_tensor(v):\n",
    "                batch[k] = v.to(device)\n",
    "\n",
    "        # get labels, embeddings, subjects\n",
    "        label = batch[\"label\"].view(-1).long()\n",
    "        embs = unimodal_model.encoders[\"image\"](batch[\"image\"])  # shape [B, D]\n",
    "        subject_id = X_test_row[\"Subject\"]\n",
    "        class_name = label_mapping[int(label.item())]\n",
    "        emb_np = embs.detach().cpu().numpy().astype(np.float32)\n",
    "\n",
    "        records_by_subject[subject_id] = {\"class_name\": class_name, \"embedding\": emb_np}\n",
    "out_pkl = \"test_embeddings_per_patient.pkl\"\n",
    "with open(out_pkl, \"wb\") as f:\n",
    "    pickle.dump(records_by_subject, f, protocol=pickle.HIGHEST_PROTOCOL)\n",
    "\n",
    "print(f\"Saved: {out_pkl}\")\n",
    "print(f\"Subjects: {len(records_by_subject)} | Dims: {emb_np.shape}\")"
   ]
  },
  {
   "cell_type": "markdown",
   "metadata": {},
   "source": [
    "## Prediction loop"
   ]
  },
  {
   "cell_type": "code",
   "execution_count": 18,
   "metadata": {},
   "outputs": [
    {
     "name": "stdout",
     "output_type": "stream",
     "text": [
      "Test Loss (CE): 0.1507\n",
      "Test Accuracy: 94.44%\n"
     ]
    }
   ],
   "source": [
    "device = torch.device(\"cuda\" if torch.cuda.is_available() else \"cpu\")\n",
    "unimodal_model.to(device)\n",
    "unimodal_model.eval()\n",
    "\n",
    "criterion = nn.CrossEntropyLoss()\n",
    "\n",
    "total_loss = 0.0\n",
    "total = 0\n",
    "correct = 0\n",
    "all_preds = []\n",
    "all_labels = []\n",
    "\n",
    "with torch.no_grad():\n",
    "    for batch in test_dataloader:\n",
    "        for key in batch.keys():\n",
    "            batch[key] = batch[key].to(device)        # get labels\n",
    "        label_key = \"label\"\n",
    "        targets = batch[label_key].view(-1).long()\n",
    "\n",
    "        # forward\n",
    "        logits = unimodal_model(batch)\n",
    "\n",
    "        # loss\n",
    "        loss = criterion(logits, targets)\n",
    "        total_loss += loss.item() * targets.size(0)\n",
    "\n",
    "        # predictions\n",
    "        preds = torch.argmax(logits, dim=1)\n",
    "\n",
    "        correct += (preds == targets).sum().item()\n",
    "        total += targets.size(0)\n",
    "\n",
    "        all_preds.append(preds.detach().cpu())\n",
    "        all_labels.append(targets.detach().cpu())\n",
    "\n",
    "avg_loss = total_loss / total if total > 0 else float(\"nan\")\n",
    "accuracy = correct / total if total > 0 else float(\"nan\")\n",
    "\n",
    "print(f\"Test Loss (CE): {avg_loss:.4f}\")\n",
    "print(f\"Test Accuracy: {accuracy*100:.2f}%\")"
   ]
  },
  {
   "cell_type": "markdown",
   "metadata": {},
   "source": []
  },
  {
   "cell_type": "markdown",
   "metadata": {},
   "source": [
    "# 2D MRI models Resnet50 (coronal View)"
   ]
  },
  {
   "cell_type": "markdown",
   "metadata": {},
   "source": [
    "## Data Loading"
   ]
  },
  {
   "cell_type": "code",
   "execution_count": 9,
   "metadata": {},
   "outputs": [],
   "source": [
    "# 1. Set up the transforms\n",
    "transforms = {\n",
    "    \"transform_fun\": Compose([\n",
    "        GetMiddleSlice(axis=\"Coronal\"),\n",
    "        ScaleIntensity(),\n",
    "        EnsureType()\n",
    "    ]),\n",
    "    \"params\": {},\n",
    "    \"data_type\": \"nii.gz\"\n",
    "}\n",
    "\n",
    "collate_fn = MMClassificationCollator( \n",
    "    image_processing=transforms,\n",
    "    tabular_processing=None)\n",
    "\n",
    "\n",
    "test_dataloader = data_loader(X_test, y_test,collate_fn=collate_fn, config=cfg, shuffle=False)\n",
    "\n",
    "\n"
   ]
  },
  {
   "cell_type": "markdown",
   "metadata": {},
   "source": [
    "## Model Loading"
   ]
  },
  {
   "cell_type": "code",
   "execution_count": null,
   "metadata": {},
   "outputs": [
    {
     "name": "stdout",
     "output_type": "stream",
     "text": [
      "Initializing layers with input dimension: 2048\n"
     ]
    },
    {
     "name": "stderr",
     "output_type": "stream",
     "text": [
      "/tmp/ipykernel_75442/2984451003.py:28: FutureWarning: You are using `torch.load` with `weights_only=False` (the current default value), which uses the default pickle module implicitly. It is possible to construct malicious pickle data which will execute arbitrary code during unpickling (See https://github.com/pytorch/pytorch/blob/main/SECURITY.md#untrusted-models for more details). In a future release, the default value for `weights_only` will be flipped to `True`. This limits the functions that could be executed during unpickling. Arbitrary objects will no longer be allowed to be loaded via this mode unless they are explicitly allowlisted by the user via `torch.serialization.add_safe_globals`. We recommend you start setting `weights_only=True` for any use case where you don't have full control of the loaded file. Please open an issue on GitHub for any issues related to this experimental feature.\n",
      "  ckpt = torch.load(resnet50_ckpt, map_location=\"cpu\")\n"
     ]
    },
    {
     "data": {
      "text/plain": [
       "<All keys matched successfully>"
      ]
     },
     "execution_count": 11,
     "metadata": {},
     "output_type": "execute_result"
    }
   ],
   "source": [
    "resnet50_ckpt = \"best_models/best_model_resnet50_epoch=9-step=590.ckpt\"\n",
    "\n",
    "image_encoder = ResNet50(\n",
    "            freeze=False,\n",
    "            include_head=False\n",
    "          )\n",
    "\n",
    "classifier = CustomClassifier(\n",
    "    hidden_dim=0,  \n",
    "    activation_fun=nn.ReLU(),\n",
    "    num_class=2, \n",
    "    task=\"multiclass\", \n",
    "    dropout_rate=0\n",
    ")\n",
    "\n",
    "encoders = {\"image\": image_encoder}\n",
    "unimodal_model = UnimodalModel(\n",
    "    encoders=encoders,\n",
    "    classifier=classifier\n",
    ")\n",
    "\n",
    "\n",
    "dummy_input = next(iter(test_dataloader))\n",
    "\n",
    "unimodal_model(dummy_input)\n",
    "\n",
    "ckpt = torch.load(resnet50_ckpt, map_location=\"cpu\")\n",
    "state_dict = ckpt[\"state_dict\"]\n",
    "consume_prefix_in_state_dict_if_present(state_dict, \"model.\")\n",
    "unimodal_model.load_state_dict(state_dict)\n"
   ]
  },
  {
   "cell_type": "markdown",
   "metadata": {},
   "source": [
    "# 2D MRI Model VIT (coronal view)"
   ]
  },
  {
   "cell_type": "markdown",
   "metadata": {},
   "source": [
    "## Data Loading"
   ]
  },
  {
   "cell_type": "code",
   "execution_count": 3,
   "metadata": {},
   "outputs": [],
   "source": [
    "cfg.batch_size = 2\n",
    "# 1. Set up the transforms\n",
    "transforms = {\n",
    "    \"transform_fun\": Compose([\n",
    "        GetMiddleSlice(axis=\"Coronal\"),\n",
    "        ScaleIntensity(),\n",
    "        EnsureType(),\n",
    "        AutoImageProcessor.from_pretrained(\n",
    "            pretrained_model_name_or_path=\"google/vit-base-patch16-224-in21k\",\n",
    "            do_rescale=False,\n",
    "            use_fast=True,\n",
    "            return_tensors=\"pt\"\n",
    "        )\n",
    "    ]),\n",
    "    \"params\": {},\n",
    "    \"data_type\": \"nii.gz\"\n",
    "}\n",
    "\n",
    "collate_fn = MMClassificationCollator( \n",
    "    image_processing=transforms,\n",
    "    tabular_processing=None)\n",
    "\n",
    "\n",
    "test_dataloader = data_loader(X_test, y_test,collate_fn=collate_fn, config=cfg, shuffle=False)\n",
    "\n"
   ]
  },
  {
   "cell_type": "markdown",
   "metadata": {},
   "source": [
    "## Model Loading"
   ]
  },
  {
   "cell_type": "code",
   "execution_count": null,
   "metadata": {},
   "outputs": [
    {
     "name": "stdout",
     "output_type": "stream",
     "text": [
      "Initializing layers with input dimension: 768\n"
     ]
    },
    {
     "name": "stderr",
     "output_type": "stream",
     "text": [
      "/tmp/ipykernel_84004/3783239972.py:26: FutureWarning: You are using `torch.load` with `weights_only=False` (the current default value), which uses the default pickle module implicitly. It is possible to construct malicious pickle data which will execute arbitrary code during unpickling (See https://github.com/pytorch/pytorch/blob/main/SECURITY.md#untrusted-models for more details). In a future release, the default value for `weights_only` will be flipped to `True`. This limits the functions that could be executed during unpickling. Arbitrary objects will no longer be allowed to be loaded via this mode unless they are explicitly allowlisted by the user via `torch.serialization.add_safe_globals`. We recommend you start setting `weights_only=True` for any use case where you don't have full control of the loaded file. Please open an issue on GitHub for any issues related to this experimental feature.\n",
      "  ckpt = torch.load(vit_model_ckpt, map_location=\"cpu\")\n"
     ]
    },
    {
     "data": {
      "text/plain": [
       "<All keys matched successfully>"
      ]
     },
     "execution_count": 6,
     "metadata": {},
     "output_type": "execute_result"
    }
   ],
   "source": [
    "vit_model_ckpt=\"best_models/best_model_VIT_epoch=4-step=295.ckpt\"\n",
    "\n",
    "image_encoder = VIT(\n",
    "            freeze=False,\n",
    "            include_head=False\n",
    "          )\n",
    "\n",
    "classifier = CustomClassifier(\n",
    "    hidden_dim=0,  \n",
    "    activation_fun=nn.ReLU(),\n",
    "    num_class=2,  \n",
    "    task=\"multiclass\",  \n",
    "    dropout_rate=0\n",
    ")\n",
    "\n",
    "encoders = {\"image\": image_encoder}\n",
    "unimodal_model = UnimodalModel(\n",
    "    encoders=encoders,\n",
    "    classifier=classifier\n",
    ")\n",
    "\n",
    "dummy_input = next(iter(test_dataloader))\n",
    "\n",
    "unimodal_model(dummy_input)\n",
    "\n",
    "ckpt = torch.load(vit_model_ckpt, map_location=\"cpu\")\n",
    "state_dict = ckpt[\"state_dict\"]\n",
    "consume_prefix_in_state_dict_if_present(state_dict, \"model.\")\n",
    "unimodal_model.load_state_dict(state_dict)"
   ]
  },
  {
   "cell_type": "markdown",
   "metadata": {},
   "source": [
    "# Tabular modality Model (MLP)"
   ]
  },
  {
   "cell_type": "markdown",
   "metadata": {},
   "source": [
    "## Data Loading"
   ]
  },
  {
   "cell_type": "code",
   "execution_count": 9,
   "metadata": {},
   "outputs": [],
   "source": [
    "seed = 42\n",
    "yaml_db_path=\"ADNI_dataset.yaml\"\n",
    "import yaml\n",
    "\n",
    "with open(yaml_db_path, 'r') as f:\n",
    "    dataset_config = yaml.safe_load(f)\n",
    "\n",
    "dataset_config[\"drop_duplicates\"] = True\n",
    "class SimpleConfig:\n",
    "        def __init__(self):\n",
    "            self.batch_size = 4 \n",
    "            self.num_workers = 4\n",
    "            self.pin_memory = True\n",
    "            self.persistent_workers = True\n",
    "            self.dataset = dataset_config\n",
    "            \n",
    "        class model:\n",
    "            weight_samples = False\n",
    "    \n",
    "cfg = SimpleConfig()\n",
    "\n",
    "# Load dataset using the same pattern as data_utils.py\n",
    "dataset_args = dict(dataset_config)\n",
    "\n",
    "\n",
    "X_train, y_train, X_val, y_val, X_test, y_test, class_names, le = get_adni_dataset_new(**dataset_args,seed=seed)\n",
    "\n",
    "\n",
    "\n",
    "collate_fn = MMClassificationCollator( \n",
    "    image_processing=None,\n",
    "    tabular_processing=True)\n",
    "\n",
    "\n",
    "test_dataloader = data_loader(X_test, y_test,collate_fn=collate_fn, config=cfg, shuffle=True)"
   ]
  },
  {
   "cell_type": "markdown",
   "metadata": {},
   "source": [
    "## Model Loading"
   ]
  },
  {
   "cell_type": "code",
   "execution_count": null,
   "metadata": {},
   "outputs": [
    {
     "name": "stdout",
     "output_type": "stream",
     "text": [
      "Initializing layers with input dimension: 32\n"
     ]
    },
    {
     "name": "stderr",
     "output_type": "stream",
     "text": [
      "/tmp/ipykernel_84004/2903487734.py:28: FutureWarning: You are using `torch.load` with `weights_only=False` (the current default value), which uses the default pickle module implicitly. It is possible to construct malicious pickle data which will execute arbitrary code during unpickling (See https://github.com/pytorch/pytorch/blob/main/SECURITY.md#untrusted-models for more details). In a future release, the default value for `weights_only` will be flipped to `True`. This limits the functions that could be executed during unpickling. Arbitrary objects will no longer be allowed to be loaded via this mode unless they are explicitly allowlisted by the user via `torch.serialization.add_safe_globals`. We recommend you start setting `weights_only=True` for any use case where you don't have full control of the loaded file. Please open an issue on GitHub for any issues related to this experimental feature.\n",
      "  ckpt = torch.load(model_ckpt, map_location=\"cpu\")\n"
     ]
    },
    {
     "data": {
      "text/plain": [
       "<All keys matched successfully>"
      ]
     },
     "execution_count": 10,
     "metadata": {},
     "output_type": "execute_result"
    }
   ],
   "source": [
    "model_ckpt= \"best_models/best_model_MLP_epoch=9-step=170-v2.ckpt\"\n",
    "\n",
    "\n",
    "tab_encoder = TabEncoderMLP(\n",
    "            freeze=False,\n",
    "            include_head=False,\n",
    "          )\n",
    "\n",
    "classifier = CustomClassifier(\n",
    "    hidden_dim=0,  \n",
    "    activation_fun=nn.ReLU(),\n",
    "    num_class=2,  \n",
    "    task=\"multiclass\",  \n",
    "    dropout_rate=0\n",
    ")\n",
    "\n",
    "encoders = {\"tabular\": tab_encoder}\n",
    "unimodal_model = FusionModel(\n",
    "    encoders=encoders,\n",
    "    fusion=None,  # since we're only using MRIs only\n",
    "    classifier=classifier\n",
    ")\n",
    "\n",
    "dummy_input = next(iter(test_dataloader))\n",
    "\n",
    "unimodal_model(dummy_input)\n",
    "\n",
    "ckpt = torch.load(model_ckpt, map_location=\"cpu\")\n",
    "state_dict = ckpt[\"state_dict\"]\n",
    "consume_prefix_in_state_dict_if_present(state_dict, \"model.\")\n",
    "unimodal_model.load_state_dict(state_dict)"
   ]
  },
  {
   "cell_type": "markdown",
   "metadata": {},
   "source": [
    "# Tabular Model ClinicalBert (best for tabular modality)"
   ]
  },
  {
   "cell_type": "markdown",
   "metadata": {},
   "source": [
    "## Data Loading"
   ]
  },
  {
   "cell_type": "code",
   "execution_count": 38,
   "metadata": {},
   "outputs": [],
   "source": [
    "seed = 42\n",
    "yaml_db_path=\"ADNI_dataset.yaml\"\n",
    "import yaml\n",
    "\n",
    "with open(yaml_db_path, 'r') as f:\n",
    "    dataset_config = yaml.safe_load(f)\n",
    "\n",
    "dataset_config[\"drop_duplicates\"] = True\n",
    "dataset_config[\"normalize\"] = True\n",
    "\n",
    "class SimpleConfig:\n",
    "        def __init__(self):\n",
    "            self.batch_size = 1 \n",
    "            self.num_workers = 4\n",
    "            self.pin_memory = False\n",
    "            self.persistent_workers = True\n",
    "            self.dataset = dataset_config\n",
    "            \n",
    "        class model:\n",
    "            weight_samples = False\n",
    "    \n",
    "cfg = SimpleConfig()\n",
    "\n",
    "# Load dataset using the same pattern as data_utils.py\n",
    "dataset_args = dict(dataset_config)\n",
    "\n",
    "\n",
    "X_train, y_train, X_val, y_val, X_test, y_test, class_names, le = get_adni_dataset_new(**dataset_args,seed=seed)\n",
    "\n",
    "\n",
    "collate_fn = MMClassificationCollator( \n",
    "    image_processing=None,\n",
    "    tabular_processing=get_serialize_data_processing())\n",
    "\n",
    "\n",
    "test_dataloader = data_loader(X_test, y_test,collate_fn=collate_fn, config=cfg, shuffle=True)"
   ]
  },
  {
   "cell_type": "markdown",
   "metadata": {},
   "source": [
    "## Model Loading"
   ]
  },
  {
   "cell_type": "code",
   "execution_count": null,
   "metadata": {},
   "outputs": [
    {
     "name": "stderr",
     "output_type": "stream",
     "text": [
      "Asking to truncate to max_length but no maximum length is provided and the model has no predefined maximum length. Default to no truncation.\n",
      "/tmp/ipykernel_84004/2782077999.py:28: FutureWarning: You are using `torch.load` with `weights_only=False` (the current default value), which uses the default pickle module implicitly. It is possible to construct malicious pickle data which will execute arbitrary code during unpickling (See https://github.com/pytorch/pytorch/blob/main/SECURITY.md#untrusted-models for more details). In a future release, the default value for `weights_only` will be flipped to `True`. This limits the functions that could be executed during unpickling. Arbitrary objects will no longer be allowed to be loaded via this mode unless they are explicitly allowlisted by the user via `torch.serialization.add_safe_globals`. We recommend you start setting `weights_only=True` for any use case where you don't have full control of the loaded file. Please open an issue on GitHub for any issues related to this experimental feature.\n",
      "  ckpt = torch.load(model_ckpt, map_location=\"cpu\")\n"
     ]
    },
    {
     "name": "stdout",
     "output_type": "stream",
     "text": [
      "Initializing layers with input dimension: 768\n"
     ]
    },
    {
     "data": {
      "text/plain": [
       "<All keys matched successfully>"
      ]
     },
     "execution_count": 37,
     "metadata": {},
     "output_type": "execute_result"
    }
   ],
   "source": [
    "#model_ckpt = \"best_models/best_model_clinicalBert_epoch=7-step=72-v1.ckpt\"\n",
    "model_ckpt = \"best_models/best_model_clinicalBert_epoch=7-step=72-v1.ckpt\"\n",
    "\n",
    "tab_encoder = ClinicalBERTEncoder(\n",
    "            freeze=False,\n",
    "            include_head=False,\n",
    "            checkpoint=\"medicalai/ClinicalBERT\"\n",
    "          )\n",
    "\n",
    "classifier = CustomClassifier(\n",
    "    hidden_dim=0,  \n",
    "    activation_fun=nn.ReLU(),\n",
    "    num_class=2,  \n",
    "    task=\"multiclass\",  \n",
    "    dropout_rate=0\n",
    ")\n",
    "\n",
    "encoders = {\"tabular\": tab_encoder}\n",
    "unimodal_model = UnimodalModel(\n",
    "    encoders=encoders,\n",
    "    classifier=classifier\n",
    ")\n",
    "\n",
    "dummy_input = next(iter(test_dataloader))\n",
    "\n",
    "unimodal_model(dummy_input)\n",
    "\n",
    "ckpt = torch.load(model_ckpt, map_location=\"cpu\")\n",
    "state_dict = ckpt[\"state_dict\"]\n",
    "consume_prefix_in_state_dict_if_present(state_dict, \"model.\")\n",
    "unimodal_model.load_state_dict(state_dict)\n"
   ]
  }
 ],
 "metadata": {
  "kernelspec": {
   "display_name": "mm_frameworkEnv",
   "language": "python",
   "name": "mm_frameworkenv"
  },
  "language_info": {
   "codemirror_mode": {
    "name": "ipython",
    "version": 3
   },
   "file_extension": ".py",
   "mimetype": "text/x-python",
   "name": "python",
   "nbconvert_exporter": "python",
   "pygments_lexer": "ipython3",
   "version": "3.9.13"
  }
 },
 "nbformat": 4,
 "nbformat_minor": 2
}
